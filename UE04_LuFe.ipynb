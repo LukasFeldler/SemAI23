{
  "nbformat": 4,
  "nbformat_minor": 0,
  "metadata": {
    "colab": {
      "provenance": [],
      "include_colab_link": true
    },
    "kernelspec": {
      "name": "python3",
      "display_name": "Python 3"
    },
    "language_info": {
      "name": "python"
    }
  },
  "cells": [
    {
      "cell_type": "markdown",
      "metadata": {
        "id": "view-in-github",
        "colab_type": "text"
      },
      "source": [
        "<a href=\"https://colab.research.google.com/github/LukasFeldler/SemAI23/blob/main/UE04_LuFe.ipynb\" target=\"_parent\"><img src=\"https://colab.research.google.com/assets/colab-badge.svg\" alt=\"Open In Colab\"/></a>"
      ]
    },
    {
      "cell_type": "markdown",
      "source": [
        "Course Instructor: Bernd Neumayr, JKU\n",
        "\n",
        "# UE04- SPARQL Updata and RDF Datasets\n",
        "\n",
        "Complete the **8 tasks (1 point per task)** in the `3. SPARQL Update` sheet of `SemAI.jar` first and then transfer them to this notebook.\n",
        "\n",
        "For each task include:\n",
        "- A headline including the task number\n",
        "- The task description \n",
        "- Your solution in executable form: your solutions for SemAI.jar will make use of the default grap. In this notebook you have to transform your solutions according to the workaround exemplified in V04_SPARQL_Update.ipynb\n",
        "- After executing the update request, print a serizalization of the dataset in TriG format.  \n",
        "\n",
        "**Task 9 (2 points)**  is to develop a nice visualization of RDF datasets using `visualize_graph_pyvis` from UE02 as a starting point. The requirements are as follows:\n",
        "- Each named graph must be represented as an independent graph. This means, for example, that :Jane in :JanesGraph is a different node than :Jane in :BillsGraph. There are no edges between nodes in different graphs.\n",
        "- It is not strictly necessary to draw a box around each named graph, as seen in the slides. The different named graphs should simply be visually distinguishable and not overlap.\n",
        "- If not all nodes within a named graph are connected, make sure in the visualization that the named graph still forms a coherent visual unit in some way."
      ],
      "metadata": {
        "id": "HnpijZy2D1Hd"
      }
    },
    {
      "cell_type": "code",
      "source": [
        "# Install required packages\n",
        "!pip install -q rdflib "
      ],
      "metadata": {
        "id": "3tykFb6EsFn7"
      },
      "execution_count": 139,
      "outputs": []
    },
    {
      "cell_type": "code",
      "source": [
        "# Imports\n",
        "import pandas as pd\n",
        "import rdflib\n",
        "from rdflib import Graph, Literal, RDF, URIRef, BNode, Namespace\n",
        "\n",
        "\n",
        "# Convenient Functions\n",
        "def sparql_select(graph,query,use_prefixes=True):\n",
        "  results = graph.query(query)          # execute the query against the graph, resulting in a rdflib.plugins.sparql.processor.SPARQLResult\n",
        "  rows = []                             # a list of dictionaries, as intermediate format to construct the pandas DataFrame\n",
        "  for result in results:                # iterate over the result set of the query, a result is an instance of rdflib.query.ResultRow\n",
        "    row = {}                            #     create a dictionary to hold a single row of the result\n",
        "    for var in results.vars:            #     iterate over the variables of the SPARQLResult to add a dictionary entry for each variable\n",
        "      if (isinstance(result[var],URIRef) and use_prefixes):\n",
        "        row[var] = result[var].n3(graph.namespace_manager)   # use namespace prefixes to shorten URIs\n",
        "      else:\n",
        "        row[var] = result[var]                  \n",
        "    rows.append(row)                    #     add the dictionary (row) to the list \n",
        "  return pd.DataFrame(rows,columns=results.vars)        \n",
        "                                        # return a pandas DataFrame constructed from the list of dictionaries, with the variables from the result set as columns      \n",
        "\n",
        "g = rdflib.Graph()\n",
        "g.parse(format=\"turtle\", data=\"\"\"\n",
        "  prefix rdf: <http://www.w3.org/1999/02/22-rdf-syntax-ns#>\n",
        "  prefix : <http://example.org/>\n",
        "\"\"\")\n",
        "\n",
        "ds = rdflib.Dataset()\n",
        "ds.parse(format=\"trig\", data=\"@prefix : <http://example.org/> .\")"
      ],
      "metadata": {
        "id": "G_uR6Re3sIFf",
        "colab": {
          "base_uri": "https://localhost:8080/"
        },
        "outputId": "0cc02815-f9cc-439c-9fc8-3f59aaffb721"
      },
      "execution_count": 140,
      "outputs": [
        {
          "output_type": "execute_result",
          "data": {
            "text/plain": [
              "<Graph identifier=N6d76ed48d64e425f8fcc4f231aa7e4ed (<class 'rdflib.graph.Graph'>)>"
            ]
          },
          "metadata": {},
          "execution_count": 140
        }
      ]
    },
    {
      "cell_type": "markdown",
      "source": [
        "Task 1"
      ],
      "metadata": {
        "id": "q2TMdrOgsR0u"
      }
    },
    {
      "cell_type": "code",
      "source": [
        "ds.update(\"\"\"\n",
        "  INSERT DATA {\n",
        "    graph :main {\n",
        "      :G1 :author :Mary.\n",
        "      :G2 :author :Peter.\n",
        "    }  \n",
        "}\n",
        "\"\"\")\n",
        "\n",
        "print(g.serialize(format=\"trig\"))"
      ],
      "metadata": {
        "id": "ibsgsOltsTWd",
        "outputId": "121e03d3-fbe7-48c0-884c-df9a4f654332",
        "colab": {
          "base_uri": "https://localhost:8080/"
        }
      },
      "execution_count": 141,
      "outputs": [
        {
          "output_type": "stream",
          "name": "stdout",
          "text": [
            "\n",
            "\n"
          ]
        }
      ]
    },
    {
      "cell_type": "markdown",
      "source": [
        "Task 2"
      ],
      "metadata": {
        "id": "dh4xT6dSspai"
      }
    },
    {
      "cell_type": "code",
      "source": [
        "ds.update(\"\"\"\n",
        "INSERT DATA {\n",
        "  GRAPH :G1 {\n",
        "    :Mary :knows :Peter, :John, :Mary.\n",
        "  }\n",
        "  GRAPH :G2 {\n",
        "    :Peter :knows :Mary.\n",
        "    :John :knows :Mary.\n",
        "  }\n",
        "}\n",
        "\"\"\")\n",
        "\n",
        "print(ds.serialize(format=\"trig\"))"
      ],
      "metadata": {
        "id": "KWAefUAFsqQE",
        "outputId": "fdf46f92-146b-48ea-8b25-f847ec88acad",
        "colab": {
          "base_uri": "https://localhost:8080/"
        }
      },
      "execution_count": 142,
      "outputs": [
        {
          "output_type": "stream",
          "name": "stdout",
          "text": [
            "@prefix : <http://example.org/> .\n",
            "\n",
            ":G2 {\n",
            "    :John :knows :Mary .\n",
            "\n",
            "    :Peter :knows :Mary .\n",
            "}\n",
            "\n",
            ":G1 {\n",
            "    :Mary :knows :John,\n",
            "            :Mary,\n",
            "            :Peter .\n",
            "}\n",
            "\n",
            ":main {\n",
            "    :G1 :author :Mary .\n",
            "\n",
            "    :G2 :author :Peter .\n",
            "}\n",
            "\n",
            "\n"
          ]
        }
      ]
    },
    {
      "cell_type": "markdown",
      "source": [
        "Task 3"
      ],
      "metadata": {
        "id": "3rbMv9Dss3tz"
      }
    },
    {
      "cell_type": "code",
      "source": [
        "ds.update(\"\"\"\n",
        "  INSERT {\n",
        "    graph :main {\n",
        "      ?known :knownBy ?person.\n",
        "    }\n",
        "  \n",
        "}\n",
        "WHERE {\n",
        "  GRAPH :G2 {\n",
        "    ?person :knows ?known.    \n",
        "  } \n",
        "}\n",
        "\"\"\")\n",
        "\n",
        "print(ds.serialize(format=\"trig\"))"
      ],
      "metadata": {
        "id": "XlTKoyT7s4e8",
        "outputId": "ace48701-cdd7-48d4-c281-232e4531b82c",
        "colab": {
          "base_uri": "https://localhost:8080/"
        }
      },
      "execution_count": 143,
      "outputs": [
        {
          "output_type": "stream",
          "name": "stdout",
          "text": [
            "@prefix : <http://example.org/> .\n",
            "\n",
            ":G2 {\n",
            "    :John :knows :Mary .\n",
            "\n",
            "    :Peter :knows :Mary .\n",
            "}\n",
            "\n",
            ":main {\n",
            "    :G1 :author :Mary .\n",
            "\n",
            "    :G2 :author :Peter .\n",
            "\n",
            "    :Mary :knownBy :John,\n",
            "            :Peter .\n",
            "}\n",
            "\n",
            ":G1 {\n",
            "    :Mary :knows :John,\n",
            "            :Mary,\n",
            "            :Peter .\n",
            "}\n",
            "\n",
            "\n"
          ]
        }
      ]
    },
    {
      "cell_type": "markdown",
      "source": [
        "Task 4"
      ],
      "metadata": {
        "id": "BSSM0bnOtluY"
      }
    },
    {
      "cell_type": "code",
      "source": [
        "ds.update(\"\"\"\n",
        "DELETE { \n",
        "  graph :main {\n",
        "    ?s :knownBy ?o .\n",
        "  }\n",
        "  \n",
        "}\n",
        "WHERE { \n",
        "  graph :main {\n",
        "    ?s :knownBy ?o \n",
        "  } \n",
        "}\n",
        "\n",
        "\"\"\")\n",
        "print(ds.serialize(format=\"trig\"))"
      ],
      "metadata": {
        "id": "UUQ_IxeEtme8",
        "outputId": "0d2cdf8a-afeb-4316-f13d-4c1833c9b13c",
        "colab": {
          "base_uri": "https://localhost:8080/"
        }
      },
      "execution_count": 144,
      "outputs": [
        {
          "output_type": "stream",
          "name": "stdout",
          "text": [
            "@prefix : <http://example.org/> .\n",
            "\n",
            ":G2 {\n",
            "    :John :knows :Mary .\n",
            "\n",
            "    :Peter :knows :Mary .\n",
            "}\n",
            "\n",
            ":main {\n",
            "    :G1 :author :Mary .\n",
            "\n",
            "    :G2 :author :Peter .\n",
            "}\n",
            "\n",
            ":G1 {\n",
            "    :Mary :knows :John,\n",
            "            :Mary,\n",
            "            :Peter .\n",
            "}\n",
            "\n",
            "\n"
          ]
        }
      ]
    },
    {
      "cell_type": "markdown",
      "source": [
        "Task 5"
      ],
      "metadata": {
        "id": "cTG65jGat6JB"
      }
    },
    {
      "cell_type": "code",
      "source": [
        "ds.update(\"\"\"\n",
        "INSERT {\n",
        "    graph :main {\n",
        "        ?graph :knowsCount ?count .\n",
        "    }\n",
        "          \n",
        "  }\n",
        "  WHERE {\n",
        "    GRAPH ?graph {\n",
        "      SELECT (count(*) as ?count)\n",
        "      Where {\n",
        "        ?x :knows ?y.\n",
        "      }\n",
        "  }\n",
        "}\n",
        "\"\"\")\n",
        "\n",
        "print(ds.serialize(format=\"trig\"))"
      ],
      "metadata": {
        "id": "li65RB10t6yS",
        "colab": {
          "base_uri": "https://localhost:8080/"
        },
        "outputId": "a6148488-bbc5-47e5-defe-4242e576881d"
      },
      "execution_count": 145,
      "outputs": [
        {
          "output_type": "stream",
          "name": "stdout",
          "text": [
            "@prefix : <http://example.org/> .\n",
            "@prefix xsd: <http://www.w3.org/2001/XMLSchema#> .\n",
            "\n",
            ":G2 {\n",
            "    :John :knows :Mary .\n",
            "\n",
            "    :Peter :knows :Mary .\n",
            "}\n",
            "\n",
            ":main {\n",
            "    :G1 :author :Mary ;\n",
            "        :knowsCount 3 .\n",
            "\n",
            "    :G2 :author :Peter ;\n",
            "        :knowsCount 2 .\n",
            "\n",
            "    :main :knowsCount 0 .\n",
            "\n",
            "    _:N6d76ed48d64e425f8fcc4f231aa7e4ed :knowsCount 0 .\n",
            "}\n",
            "\n",
            ":G1 {\n",
            "    :Mary :knows :John,\n",
            "            :Mary,\n",
            "            :Peter .\n",
            "}\n",
            "\n",
            "\n"
          ]
        }
      ]
    },
    {
      "cell_type": "markdown",
      "source": [
        "Task 6"
      ],
      "metadata": {
        "id": "PjroQgWnuGdX"
      }
    },
    {
      "cell_type": "code",
      "source": [
        "ds.update(\"\"\"\n",
        "  INSERT {  \n",
        "    graph :main {\n",
        "        :ds :graphCount ?numGraphs .\n",
        "    }   \n",
        "}\n",
        "WHERE { \n",
        "  SELECT (COUNT(DISTINCT ?graph) AS ?numGraphs) \n",
        "  WHERE {\n",
        "    GRAPH ?graph { ?s ?p ?o }\n",
        "    \n",
        "  }\n",
        "}\n",
        "\n",
        "\"\"\")\n",
        "print(ds.serialize(format=\"trig\"))"
      ],
      "metadata": {
        "id": "e2vOZiQcuHbn",
        "colab": {
          "base_uri": "https://localhost:8080/"
        },
        "outputId": "13812653-adb6-44e1-edce-28e2e9c7c400"
      },
      "execution_count": 146,
      "outputs": [
        {
          "output_type": "stream",
          "name": "stdout",
          "text": [
            "@prefix : <http://example.org/> .\n",
            "@prefix xsd: <http://www.w3.org/2001/XMLSchema#> .\n",
            "\n",
            ":G2 {\n",
            "    :John :knows :Mary .\n",
            "\n",
            "    :Peter :knows :Mary .\n",
            "}\n",
            "\n",
            ":main {\n",
            "    :G1 :author :Mary ;\n",
            "        :knowsCount 3 .\n",
            "\n",
            "    :G2 :author :Peter ;\n",
            "        :knowsCount 2 .\n",
            "\n",
            "    :ds :graphCount 3 .\n",
            "\n",
            "    :main :knowsCount 0 .\n",
            "\n",
            "    _:N6d76ed48d64e425f8fcc4f231aa7e4ed :knowsCount 0 .\n",
            "}\n",
            "\n",
            ":G1 {\n",
            "    :Mary :knows :John,\n",
            "            :Mary,\n",
            "            :Peter .\n",
            "}\n",
            "\n",
            "\n"
          ]
        }
      ]
    },
    {
      "cell_type": "markdown",
      "source": [
        "Task 7"
      ],
      "metadata": {
        "id": "zLNxTuu3uRbN"
      }
    },
    {
      "cell_type": "code",
      "source": [
        "ds.update(\"\"\"\n",
        "DELETE { \n",
        "      ?s ?p ?o    \n",
        "}\n",
        "INSERT { \n",
        "   GRAPH ?s { \n",
        "     ?s ?p ?o \n",
        "   } \n",
        "}\n",
        "WHERE {\n",
        "  graph :main {\n",
        "    ?s ?p ?o.\n",
        "  }\n",
        "    \n",
        "    \n",
        "    GRAPH ?s {\n",
        "    ?s ?p ?o.\n",
        "  }\n",
        "  \n",
        "  \n",
        "  \n",
        "}\n",
        "\"\"\")\n",
        "\n",
        "print(ds.serialize(format=\"trig\"))"
      ],
      "metadata": {
        "id": "wcrcgww7uSTU",
        "colab": {
          "base_uri": "https://localhost:8080/"
        },
        "outputId": "8cb41236-f82e-4062-e9b1-347532bdc708"
      },
      "execution_count": 147,
      "outputs": [
        {
          "output_type": "stream",
          "name": "stdout",
          "text": [
            "@prefix : <http://example.org/> .\n",
            "@prefix xsd: <http://www.w3.org/2001/XMLSchema#> .\n",
            "\n",
            ":G2 {\n",
            "    :John :knows :Mary .\n",
            "\n",
            "    :Peter :knows :Mary .\n",
            "}\n",
            "\n",
            ":main {\n",
            "    :G1 :author :Mary ;\n",
            "        :knowsCount 3 .\n",
            "\n",
            "    :G2 :author :Peter ;\n",
            "        :knowsCount 2 .\n",
            "\n",
            "    :ds :graphCount 3 .\n",
            "\n",
            "    :main :knowsCount 0 .\n",
            "\n",
            "    _:N6d76ed48d64e425f8fcc4f231aa7e4ed :knowsCount 0 .\n",
            "}\n",
            "\n",
            ":G1 {\n",
            "    :Mary :knows :John,\n",
            "            :Mary,\n",
            "            :Peter .\n",
            "}\n",
            "\n",
            "\n"
          ]
        }
      ]
    },
    {
      "cell_type": "markdown",
      "source": [
        "Task 8"
      ],
      "metadata": {
        "id": "ecETQVF1upJ3"
      }
    },
    {
      "cell_type": "code",
      "source": [
        "ds.update(\"\"\"\n",
        " DELETE {\n",
        "  GRAPH ?g {\n",
        "    ?g :knowsCount ?count .\n",
        "  }\n",
        "}\n",
        "INSERT {\n",
        "  GRAPH ?g {\n",
        "    ?author :knows :Susi.\n",
        "    ?g :knowsCount ?newCount .\n",
        "  }\n",
        "}\n",
        "WHERE {\n",
        "  GRAPH ?g {\n",
        "    ?g :author ?author .\n",
        "    ?g :knowsCount ?count .    \n",
        "  }\n",
        "  BIND((?count + 1) AS ?newCount)\n",
        "}\n",
        "\"\"\")\n",
        "\n",
        "print(ds.serialize(format=\"trig\"))"
      ],
      "metadata": {
        "id": "TnmYBtjlup08",
        "colab": {
          "base_uri": "https://localhost:8080/"
        },
        "outputId": "6eb104e6-2d92-4f78-b591-a4bfec6af4f9"
      },
      "execution_count": 148,
      "outputs": [
        {
          "output_type": "stream",
          "name": "stdout",
          "text": [
            "@prefix : <http://example.org/> .\n",
            "@prefix xsd: <http://www.w3.org/2001/XMLSchema#> .\n",
            "\n",
            ":G2 {\n",
            "    :John :knows :Mary .\n",
            "\n",
            "    :Peter :knows :Mary .\n",
            "}\n",
            "\n",
            ":main {\n",
            "    :G1 :author :Mary ;\n",
            "        :knowsCount 3 .\n",
            "\n",
            "    :G2 :author :Peter ;\n",
            "        :knowsCount 2 .\n",
            "\n",
            "    :ds :graphCount 3 .\n",
            "\n",
            "    :main :knowsCount 0 .\n",
            "\n",
            "    _:N6d76ed48d64e425f8fcc4f231aa7e4ed :knowsCount 0 .\n",
            "}\n",
            "\n",
            ":G1 {\n",
            "    :Mary :knows :John,\n",
            "            :Mary,\n",
            "            :Peter .\n",
            "}\n",
            "\n",
            "\n"
          ]
        }
      ]
    }
  ]
}